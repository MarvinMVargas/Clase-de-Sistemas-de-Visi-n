{
 "metadata": {
  "language_info": {
   "codemirror_mode": {
    "name": "ipython",
    "version": 3
   },
   "file_extension": ".py",
   "mimetype": "text/x-python",
   "name": "python",
   "nbconvert_exporter": "python",
   "pygments_lexer": "ipython3",
   "version": "3.8.3-final"
  },
  "orig_nbformat": 2,
  "kernelspec": {
   "name": "Python 3.8.3 64-bit ('base': conda)",
   "display_name": "Python 3.8.3 64-bit ('base': conda)",
   "metadata": {
    "interpreter": {
     "hash": "68ed9e314faa89cbcc77b5cc905d088e3bcfcd310315137f955a20fb57aebcc2"
    }
   }
  }
 },
 "nbformat": 4,
 "nbformat_minor": 2,
 "cells": [
  {
   "source": [
    "# Actividad Fundamental 2\n",
    "## Sistemas de Visión\n",
    "### Marvin M. Vargas Flores 1732330"
   ],
   "cell_type": "markdown",
   "metadata": {}
  },
  {
   "source": [
    "\n",
    "## ¿Qué son los histogramas?\n",
    "En estadística, un histograma es una representación gráfica de una variable en forma de barras, donde la superficie de cada barra es proporcional a la frecuencia de los valores representados. \n",
    "\n",
    "En el ambito de la vision artificial los histogramas se utilizan para hacer un análisis básico de la cantidad de pixeles que hay en cada uno de los canales. Para esto, una imagen se separa en sus diferentes canales y cada uno de estos  se convierte en una imagen en escala de grises, donde los pixeles mas cercanos al blanco tienen valores mas altos y los pixeles cercanos al negro tienen valores mas bajos.\n",
    "\n",
    "## ¿Cuáles son sus aplicaciones?\n",
    "Los analisis de los canales de las imagenes son comunmente utilizados para hacer que toda la información contenida sea mas facilmente interpretable por una persona. Esto les permite poder tomar mejores decisiones respecto al curso a seguir al momento de diseñar un algoritmo de analisis para encontrar lo que se busca en la imagen. \n",
    "\n",
    "Por ejemplo, en el caso de un vehículo autónomo que intenta identificar las lineas amarillas en el piso se puede utilizar un histograma para definir en que rangos de que canales se encuentran los pixeles de las líneas amarillas y así definir un filtro para identificarlas de manera mas sencilla. "
   ],
   "cell_type": "markdown",
   "metadata": {}
  },
  {
   "source": [
    "#Importar librerias que utilizarán para realizar el análisis de las imagenes.\n",
    "import cv2\n",
    "import matplotlib\n",
    "import numpy\n",
    "import tkinter"
   ],
   "cell_type": "code",
   "metadata": {},
   "execution_count": 2,
   "outputs": []
  },
  {
   "cell_type": "code",
   "execution_count": null,
   "metadata": {},
   "outputs": [],
   "source": [
    "#Definir las variables donde se almacenara la ruta de las imagenes que se analizaran.\n",
    "paths = [\"\",\"\"]\n"
   ]
  }
 ]
}